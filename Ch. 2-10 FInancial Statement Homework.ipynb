{
 "cells": [
  {
   "cell_type": "code",
   "execution_count": 3,
   "metadata": {},
   "outputs": [
    {
     "data": {
      "text/plain": [
       "[2522.67,\n",
       " 1911.3900000000003,\n",
       " -3707.790000000001,\n",
       " -2914.3099999999995,\n",
       " -599.9200000000001,\n",
       " 7265.24,\n",
       " 8210.550000000001,\n",
       " 3944.9700000000003,\n",
       " 3328.3899999999994,\n",
       " -2238.6500000000015,\n",
       " 659.5999999999985,\n",
       " 11629.54]"
      ]
     },
     "execution_count": 3,
     "metadata": {},
     "output_type": "execute_result"
    }
   ],
   "source": [
    "# Find:\n",
    "# Profit/Month\n",
    "# profit after tax/month\n",
    "# profit margin/month = prof after tax/revenue\n",
    "# good months = where profit after tax  > mean for year\n",
    "# bad months  ........................  <  ............\n",
    "# best month\n",
    "# worst month\n",
    "exp = [12051.82, 5695.07, 12319.20, 12089.72, 8658.57, 840.20, 3285.73, 5821.12, 6976.93, 16618.61, 10054.37, 3803.96]\n",
    "rev = [14574.49, 7606.46, 8611.41, 9175.41, 8058.65, 8105.44, 11496.28, 9766.09, 10305.32, 14379.96, 10713.97, 15433.50]\n",
    "prof = []\n",
    "for i in range(len(exp)):\n",
    "    prof.append(rev[i] - exp[i])\n",
    "prof"
   ]
  },
  {
   "cell_type": "code",
   "execution_count": 12,
   "metadata": {},
   "outputs": [
    {
     "data": {
      "text/plain": [
       "[756.8,\n",
       " 573.42,\n",
       " -1112.34,\n",
       " -874.29,\n",
       " -179.98,\n",
       " 2179.57,\n",
       " 2463.17,\n",
       " 1183.49,\n",
       " 998.52,\n",
       " -671.6,\n",
       " 197.88,\n",
       " 3488.86]"
      ]
     },
     "execution_count": 12,
     "metadata": {},
     "output_type": "execute_result"
    }
   ],
   "source": [
    "tax = []\n",
    "for i in range(len(prof)):\n",
    "    tax.append(round(prof[i] * .3,2))\n",
    "tax"
   ]
  },
  {
   "cell_type": "code",
   "execution_count": 11,
   "metadata": {},
   "outputs": [
    {
     "data": {
      "text/plain": [
       "[1765.67,\n",
       " 1338.3900000000003,\n",
       " -2595.790000000001,\n",
       " -2040.3099999999995,\n",
       " -419.9200000000001,\n",
       " 5085.24,\n",
       " 5747.550000000001,\n",
       " 2761.9700000000003,\n",
       " 2329.3899999999994,\n",
       " -1566.6500000000015,\n",
       " 461.59999999999854,\n",
       " 8140.540000000001]"
      ]
     },
     "execution_count": 11,
     "metadata": {},
     "output_type": "execute_result"
    }
   ],
   "source": [
    "profaftertax = []\n",
    "for i in range(len(prof)):\n",
    "    profaftertax.append(prof[i] - tax[i])\n",
    "profaftertax"
   ]
  },
  {
   "cell_type": "code",
   "execution_count": 13,
   "metadata": {},
   "outputs": [
    {
     "data": {
      "text/plain": [
       "[12.11,\n",
       " 17.6,\n",
       " -30.14,\n",
       " -22.24,\n",
       " -5.21,\n",
       " 62.74,\n",
       " 49.99,\n",
       " 28.28,\n",
       " 22.6,\n",
       " -10.89,\n",
       " 4.31,\n",
       " 52.75]"
      ]
     },
     "execution_count": 13,
     "metadata": {},
     "output_type": "execute_result"
    }
   ],
   "source": [
    "profit_margin = []\n",
    "for i in range(len(prof)):\n",
    "    profit_margin.append(profaftertax[i] / rev[i])\n",
    "profit_margin = [round((i* 100),2) for i in profit_margin]\n",
    "profit_margin"
   ]
  },
  {
   "cell_type": "code",
   "execution_count": 14,
   "metadata": {},
   "outputs": [
    {
     "data": {
      "text/plain": [
       "1750.64"
      ]
     },
     "execution_count": 14,
     "metadata": {},
     "output_type": "execute_result"
    }
   ],
   "source": [
    "mean_pat = sum(profaftertax) / len(profaftertax)\n",
    "mean_pat"
   ]
  },
  {
   "cell_type": "code",
   "execution_count": 17,
   "metadata": {},
   "outputs": [
    {
     "data": {
      "text/plain": [
       "[1, -1, -1, -1, -1, 1, 1, 1, 1, -1, -1, 1]"
      ]
     },
     "execution_count": 17,
     "metadata": {},
     "output_type": "execute_result"
    }
   ],
   "source": [
    "good_bad = []\n",
    "for i in profaftertax:\n",
    "    if i > mean_pat:\n",
    "        good_bad.append(1)\n",
    "    elif i < mean_pat:\n",
    "        good_bad.append(-1)\n",
    "    else:\n",
    "        good_bad.append(0)\n",
    "good_bad"
   ]
  },
  {
   "cell_type": "code",
   "execution_count": 19,
   "metadata": {},
   "outputs": [
    {
     "data": {
      "text/plain": [
       "[0, 0, 0, 0, 0, 0, 0, 0, 0, 0, 0, 1]"
      ]
     },
     "execution_count": 19,
     "metadata": {},
     "output_type": "execute_result"
    }
   ],
   "source": [
    "best = []\n",
    "for i in profaftertax:\n",
    "    if i == max(profaftertax):\n",
    "        best.append(1)\n",
    "    else:\n",
    "        best.append(0)\n",
    "best"
   ]
  },
  {
   "cell_type": "code",
   "execution_count": 21,
   "metadata": {},
   "outputs": [
    {
     "data": {
      "text/plain": [
       "[0, 0, 1, 0, 0, 0, 0, 0, 0, 0, 0, 0]"
      ]
     },
     "execution_count": 21,
     "metadata": {},
     "output_type": "execute_result"
    }
   ],
   "source": [
    "worst = []\n",
    "for i in profaftertax:\n",
    "    if i == min(profaftertax):\n",
    "        worst.append(1)\n",
    "    else:\n",
    "        worst.append(0)\n",
    "worst"
   ]
  },
  {
   "cell_type": "code",
   "execution_count": null,
   "metadata": {},
   "outputs": [],
   "source": []
  }
 ],
 "metadata": {
  "kernelspec": {
   "display_name": "Python 3",
   "language": "python",
   "name": "python3"
  },
  "language_info": {
   "codemirror_mode": {
    "name": "ipython",
    "version": 3
   },
   "file_extension": ".py",
   "mimetype": "text/x-python",
   "name": "python",
   "nbconvert_exporter": "python",
   "pygments_lexer": "ipython3",
   "version": "3.8.3"
  }
 },
 "nbformat": 4,
 "nbformat_minor": 2
}
